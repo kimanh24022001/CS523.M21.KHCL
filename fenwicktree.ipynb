{
  "nbformat": 4,
  "nbformat_minor": 0,
  "metadata": {
    "colab": {
      "name": "fenwicktree.ipynb",
      "provenance": [],
      "authorship_tag": "ABX9TyNfw7UOce+DxuAnQn92VDGO",
      "include_colab_link": true
    },
    "kernelspec": {
      "name": "python3",
      "display_name": "Python 3"
    },
    "language_info": {
      "name": "python"
    }
  },
  "cells": [
    {
      "cell_type": "markdown",
      "metadata": {
        "id": "view-in-github",
        "colab_type": "text"
      },
      "source": [
        "<a href=\"https://colab.research.google.com/github/kimanh24022001/CS523.M21.KHCL/blob/main/fenwicktree.ipynb\" target=\"_parent\"><img src=\"https://colab.research.google.com/assets/colab-badge.svg\" alt=\"Open In Colab\"/></a>"
      ]
    },
    {
      "cell_type": "code",
      "execution_count": null,
      "metadata": {
        "id": "Uxe9VaZruFgw"
      },
      "outputs": [],
      "source": [
        "def getsum(BITTree,i):\n",
        "\tsum = 0 #initialize result\n",
        "\n",
        "\t# index in BITree[] is 1 more than the index in arr[]\n",
        "\ti = i+1\n",
        "\n",
        "\t# Traverse ancestors of BITree[index]\n",
        "\twhile i > 0:\n",
        "\n",
        "\t\t# Add current element of BITree to sum\n",
        "\t\tsum += BITTree[i]\n",
        "\n",
        "\t\t# Move index to parent node in getSum View\n",
        "\t\ti -= i & (-i)\n",
        "\treturn sum\n",
        "\n",
        "def updatebit(BITTree , n , i ,v):\n",
        "\n",
        "\t# index in BITree[] is 1 more than the index in arr[]\n",
        "\ti += 1\n",
        "\n",
        "\t# Traverse all ancestors and add 'val'\n",
        "\twhile i <= n:\n",
        "\n",
        "\t\t# Add 'val' to current node of BI Tree\n",
        "\t\tBITTree[i] += v\n",
        "\n",
        "\t\t# Update index to that of parent in update View\n",
        "\t\ti += i & (-i)\n",
        "\n",
        "def construct(arr, n):\n",
        "\n",
        "\t# Create and initialize BITree[] as 0\n",
        "\tBITTree = [0]*(n+1)\n",
        "\n",
        "\t# Store the actual values in BITree[] using update()\n",
        "\tfor i in range(n):\n",
        "\t\tupdatebit(BITTree, n, i, arr[i])\n",
        "\n",
        "\t# Uncomment below lines to see contents of BITree[]\n",
        "\t#for i in range(1,n+1):\n",
        "\t#\t print BITTree[i],\n",
        "\treturn BITTree\n",
        "\n",
        "\n",
        "# Driver code to test above methods\n",
        "freq = [2, 1, 1, 3, 2, 3, 4, 5, 6, 7, 8, 9]\n",
        "BITTree = construct(freq,len(freq))\n",
        "print(\"Sum of elements in arr[0..5] is \" + str(getsum(BITTree,5)))\n",
        "freq[3] += 6\n",
        "updatebit(BITTree, len(freq), 3, 6)\n",
        "print(\"Sum of elements in arr[0..5]\"+\n",
        "\t\t\t\t\t\" after update is \" + str(getsum(BITTree,5)))\n"
      ]
    }
  ]
}